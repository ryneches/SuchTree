{
 "cells": [
  {
   "cell_type": "markdown",
   "metadata": {
    "slideshow": {
     "slide_type": "slide"
    }
   },
   "source": [
    "# `SuchLinkedTrees`\n",
    "\n",
    "I didn't want to write this either."
   ]
  },
  {
   "cell_type": "markdown",
   "metadata": {
    "slideshow": {
     "slide_type": "slide"
    }
   },
   "source": [
    "### Working with linked trees\n",
    "\n",
    "If you are interested in studying how two groups of organisms interact (or, \n",
    "rather, have interacted over evolutionary time), you will find yourself with \n",
    "two trees of distinct groups of taxa that are linked by a matrix of \n",
    "interaction observations. This is sometimes called a 'dueling trees' problem.\n",
    "\n",
    "![dueling trees](dueling_trees.png)"
   ]
  },
  {
   "cell_type": "markdown",
   "metadata": {
    "slideshow": {
     "slide_type": "slide"
    }
   },
   "source": [
    "If the trees happen to have the same number of taxa, and the interaction \n",
    "matrix happens to be a unit matrix, then you can compute the distance matrix\n",
    "for each of your tres and use the \n",
    "[Mantel test](https://en.wikipedia.org/wiki/Mantel_test) to compare them. \n",
    "However, this is a pretty special case. Hommola *et al.* describe a method \n",
    "extends the Mantel test in this paper here :\n",
    "\n",
    "* [A Permutation Test of Host–Parasite Cospeciation](http://dx.doi.org/10.1093/molbev/msp062). *Molecular Biology and Evolution*, Vol. 26, No. 7. (01 July 2009), pp. 1457-1468, by Kerstin Hommola, Judith E. Smith, Yang Qiu, Walter R. Gilks"
   ]
  },
  {
   "cell_type": "code",
   "execution_count": 1,
   "metadata": {
    "collapsed": false,
    "slideshow": {
     "slide_type": "skip"
    }
   },
   "outputs": [
    {
     "name": "stdout",
     "output_type": "stream",
     "text": [
      "Populating the interactive namespace from numpy and matplotlib\n"
     ]
    }
   ],
   "source": [
    "%load_ext Cython\n",
    "%pylab inline"
   ]
  },
  {
   "cell_type": "code",
   "execution_count": 2,
   "metadata": {
    "collapsed": false,
    "slideshow": {
     "slide_type": "skip"
    }
   },
   "outputs": [],
   "source": [
    "from SuchTree import SuchTree\n",
    "import pandas as pd\n",
    "import numpy as np\n",
    "import seaborn"
   ]
  },
  {
   "cell_type": "code",
   "execution_count": null,
   "metadata": {
    "collapsed": true,
    "slideshow": {
     "slide_type": "slide"
    }
   },
   "outputs": [],
   "source": [
    "from SuchTree import SuchLinkedTrees, pearson"
   ]
  },
  {
   "cell_type": "code",
   "execution_count": 3,
   "metadata": {
    "collapsed": false,
    "slideshow": {
     "slide_type": "slide"
    }
   },
   "outputs": [],
   "source": [
    "T1 = SuchTree( 'SuchTree/tests/test.tree' )\n",
    "T2 = SuchTree( 'http://edhar.genomecenter.ucdavis.edu/~russell/fishpoo/fishpoo2_p200_c2_unique_2_clustalo_fasttree.tree' )\n",
    "links = pd.read_csv( 'http://edhar.genomecenter.ucdavis.edu/~russell/fishpoo/fishpoo2_p200_c2_host_count_table.tsv', \n",
    "                    sep='\\t', index_col='Host')\n",
    "links.index = map( lambda x : x.replace(' ','_'), links.index )"
   ]
  },
  {
   "cell_type": "markdown",
   "metadata": {
    "slideshow": {
     "slide_type": "slide"
    }
   },
   "source": [
    "### Let your trees be linked!\n",
    "\n",
    "Now, we create a `SuchLinkedTrees` object, which connects the host and \n",
    "guest trees to the link matrix (`True` or `False` values derived from the\n",
    "count matrix). This pre-indexes the table for fast access later, so creating\n",
    "object takes a little while."
   ]
  },
  {
   "cell_type": "code",
   "execution_count": 4,
   "metadata": {
    "collapsed": false,
    "slideshow": {
     "slide_type": "slide"
    }
   },
   "outputs": [
    {
     "name": "stdout",
     "output_type": "stream",
     "text": [
      "139761682196456 allocating columns in 3446384640\n",
      "bulding default subset.\n",
      "bulding default link list.\n",
      "CPU times: user 9min 41s, sys: 2.54 s, total: 9min 43s\n",
      "Wall time: 10min\n"
     ]
    }
   ],
   "source": [
    "%%time\n",
    "SLT = SuchLinkedTrees( T1, T2, links )"
   ]
  },
  {
   "cell_type": "markdown",
   "metadata": {
    "slideshow": {
     "slide_type": "slide"
    }
   },
   "source": [
    "### What's goodies are inside?\n",
    "\n",
    "Let's look at how `SuchLinkedTrees` slices the link data by clade.\n",
    "\n",
    "We'll pick a random clade..."
   ]
  },
  {
   "cell_type": "code",
   "execution_count": 5,
   "metadata": {
    "collapsed": false,
    "slideshow": {
     "slide_type": "subslide"
    }
   },
   "outputs": [
    {
     "data": {
      "text/plain": [
       "array([6936, 7040, 7046, 7052, 6880, 6938, 6940, 6942, 6994, 7028, 7034,\n",
       "       7042, 7044, 7048, 7050, 7054, 7056, 6882, 6944, 6950, 6996, 6998,\n",
       "       7014, 7030, 7032, 7036, 7038, 6884, 6886, 6926, 6932, 6934, 6946,\n",
       "       6948, 6952, 6954, 7000, 7008, 6914, 6916, 6918, 6920, 6928, 6930,\n",
       "       6972, 6986, 7002, 7010, 7012, 7016, 7024, 7026, 6888, 6890, 6892,\n",
       "       6922, 6924, 6956, 6958, 6960, 6962, 6964, 6974, 6980, 6992, 7004,\n",
       "       7006, 7022, 6894, 6896, 6898, 6906, 6966, 6976, 6978, 6982, 6984,\n",
       "       6988, 6990, 7018, 7020, 6900, 6908, 6968, 6970, 6902, 6904, 6910,\n",
       "       6912])"
      ]
     },
     "execution_count": 5,
     "metadata": {},
     "output_type": "execute_result"
    }
   ],
   "source": [
    "SLT.TreeB.get_leafs( 7027 )"
   ]
  },
  {
   "cell_type": "markdown",
   "metadata": {
    "slideshow": {
     "slide_type": "slide"
    }
   },
   "source": [
    "This one looks good.\n",
    "\n",
    "Now, we tell our `SuchLinkedTrees` object to subset itself using that clade.\n",
    "\n",
    "The default subset is the root node of the guest tree."
   ]
  },
  {
   "cell_type": "code",
   "execution_count": 53,
   "metadata": {
    "collapsed": false,
    "slideshow": {
     "slide_type": "subslide"
    }
   },
   "outputs": [
    {
     "name": "stdout",
     "output_type": "stream",
     "text": [
      "subset size  : 89\n",
      "subset links : 245\n",
      "link pairs   : 29890\n"
     ]
    }
   ],
   "source": [
    "SLT.subset( 7027 )\n",
    "print 'subset size  :', SLT.subset_size\n",
    "print 'subset links :', SLT.subset_n_links\n",
    "print 'link pairs   :', ( SLT.subset_n_links * ( SLT.subset_n_links -1 ) ) / 2"
   ]
  },
  {
   "cell_type": "markdown",
   "metadata": {
    "collapsed": false,
    "slideshow": {
     "slide_type": "subslide"
    }
   },
   "source": [
    "print SLT.col_ids\n",
    "print SLT.subset_columns\n",
    "print SLT.subset_leafs"
   ]
  },
  {
   "cell_type": "markdown",
   "metadata": {
    "slideshow": {
     "slide_type": "slide"
    }
   },
   "source": [
    "### Paired distances\n",
    "\n",
    "We can test whether or not the guest organisms are likely to have co-diversified \n",
    "with the host organisms by computing the distances between each possible pair of\n",
    "links in the link matrix through each of the two trees, and then testing how well\n",
    "those two sets of distances correlate with one another."
   ]
  },
  {
   "cell_type": "code",
   "execution_count": 55,
   "metadata": {
    "collapsed": false,
    "slideshow": {
     "slide_type": "subslide"
    }
   },
   "outputs": [
    {
     "data": {
      "text/plain": [
       "<seaborn.axisgrid.JointGrid at 0x7faea626e750>"
      ]
     },
     "execution_count": 55,
     "metadata": {},
     "output_type": "execute_result"
    },
    {
     "data": {
      "image/png": "[encoded data removed]",
      "text/plain": [
       "<matplotlib.figure.Figure at 0x7faea626e2d0>"
      ]
     },
     "metadata": {},
     "output_type": "display_data"
    }
   ],
   "source": [
    "result = SLT.linked_distances()\n",
    "seaborn.jointplot( result['TreeA'], result['TreeB'] )"
   ]
  },
  {
   "cell_type": "markdown",
   "metadata": {
    "slideshow": {
     "slide_type": "slide"
    }
   },
   "source": [
    "Yeesh. Lousy correlation, isn't it?\n",
    "\n",
    "Anyway, thanks to `SuchTree`, it only takes a tiny sliver of \n",
    "a second to compute the 29,890 distances through each of the two\n",
    "trees."
   ]
  },
  {
   "cell_type": "markdown",
   "metadata": {
    "slideshow": {
     "slide_type": "slide"
    }
   },
   "source": [
    "Unfortunately, for $n$ links, the number of link pairs is\n",
    "\n",
    "$$\\frac{n (n-1)}{2}$$\n",
    "\n",
    "This is $\\mathcal{O}(n^2)$ scaling, which is $bad$. The biggest clade is \n",
    "\n",
    "$$ \\frac{ 54327 \\times 54326 }{2}= 1,475,684,301 $$\n",
    "\n",
    "link pairs. And that's just one particularly big clade!"
   ]
  },
  {
   "cell_type": "markdown",
   "metadata": {
    "slideshow": {
     "slide_type": "slide"
    }
   },
   "source": [
    "### Solution : sampling\n",
    "\n",
    "We can avoid this problem (with some care) using `SuchLinkedTrees.sample_linked_distances()`."
   ]
  },
  {
   "cell_type": "code",
   "execution_count": 42,
   "metadata": {
    "collapsed": false,
    "slideshow": {
     "slide_type": "subslide"
    }
   },
   "outputs": [
    {
     "data": {
      "text/plain": [
       "{'TreeA': array([ 26.82616806,  26.82613945,  20.02231216, ...,  26.82613754,\n",
       "         26.82615089,   0.        ]),\n",
       " 'TreeB': array([ 0.01804,  0.02644,  0.01492, ...,  0.0173 ,  0.0189 ,  0.01188]),\n",
       " 'deviation_a': 0.04971844702959061,\n",
       " 'deviation_b': 1.768802394508384e-05,\n",
       " 'n_pairs': 29890,\n",
       " 'n_samples': 300000}"
      ]
     },
     "execution_count": 42,
     "metadata": {},
     "output_type": "execute_result"
    }
   ],
   "source": [
    "result_sampled = SLT.sample_linked_distances(sigma=0.05, n=10000, buckets=10)\n",
    "result_sampled"
   ]
  },
  {
   "cell_type": "markdown",
   "metadata": {
    "slideshow": {
     "slide_type": "subslide"
    }
   },
   "source": [
    "Clade `7027` is not particularly big, so we've actually over-sampled it \n",
    "by a little more than $10\\times$.\n",
    "\n",
    "It shoudln't much different, though."
   ]
  },
  {
   "cell_type": "code",
   "execution_count": 43,
   "metadata": {
    "collapsed": false,
    "slideshow": {
     "slide_type": "subslide"
    }
   },
   "outputs": [
    {
     "data": {
      "text/plain": [
       "<seaborn.axisgrid.JointGrid at 0x7faeaa812790>"
      ]
     },
     "execution_count": 43,
     "metadata": {},
     "output_type": "execute_result"
    },
    {
     "data": {
      "image/png": "[encoded data removed]",
      "text/plain": [
       "<matplotlib.figure.Figure at 0x7faeaad41ed0>"
      ]
     },
     "metadata": {},
     "output_type": "display_data"
    }
   ],
   "source": [
    "seaborn.jointplot( result_sampled['TreeA'], result_sampled['TreeB'] )"
   ]
  },
  {
   "cell_type": "markdown",
   "metadata": {
    "slideshow": {
     "slide_type": "slide"
    }
   },
   "source": [
    "But, of couse, sampled distributions don't look exactly like the distributions\n",
    "from which they were taken, so let's have a look at 'em."
   ]
  },
  {
   "cell_type": "code",
   "execution_count": 44,
   "metadata": {
    "collapsed": false,
    "slideshow": {
     "slide_type": "subslide"
    }
   },
   "outputs": [
    {
     "data": {
      "text/plain": [
       "<matplotlib.axes._subplots.AxesSubplot at 0x7faea7781f10>"
      ]
     },
     "execution_count": 44,
     "metadata": {},
     "output_type": "execute_result"
    },
    {
     "data": {
      "image/png": "[encoded data removed]",
      "text/plain": [
       "<matplotlib.figure.Figure at 0x7faeacd1eed0>"
      ]
     },
     "metadata": {},
     "output_type": "display_data"
    }
   ],
   "source": [
    "seaborn.kdeplot(result['TreeB'])"
   ]
  },
  {
   "cell_type": "code",
   "execution_count": 45,
   "metadata": {
    "collapsed": false,
    "slideshow": {
     "slide_type": "subslide"
    }
   },
   "outputs": [
    {
     "data": {
      "text/plain": [
       "<matplotlib.axes._subplots.AxesSubplot at 0x7faeaa5ff210>"
      ]
     },
     "execution_count": 45,
     "metadata": {},
     "output_type": "execute_result"
    },
    {
     "data": {
      "image/png": "[encoded data removed]",
      "text/plain": [
       "<matplotlib.figure.Figure at 0x7faea7a99650>"
      ]
     },
     "metadata": {},
     "output_type": "display_data"
    }
   ],
   "source": [
    "seaborn.kdeplot(result_sampled['TreeB'][100000:400000])"
   ]
  },
  {
   "cell_type": "markdown",
   "metadata": {
    "slideshow": {
     "slide_type": "slide"
    }
   },
   "source": [
    "### Down to business\n",
    "\n",
    "Now that you've seen the major features of `SuchLinkedTrees`, let's use it to do something \n",
    "useful.\n",
    "\n",
    "How about my main dissertation question? \n",
    "\n",
    "*Are there any co-diversifying bacteria in my fish?*"
   ]
  },
  {
   "cell_type": "code",
   "execution_count": 46,
   "metadata": {
    "collapsed": false,
    "slideshow": {
     "slide_type": "subslide"
    }
   },
   "outputs": [
    {
     "name": "stderr",
     "output_type": "stream",
     "text": [
      "sampling trees...\n",
      "0%                          100%\n",
      "[##############################] | ETA: 00:00:00\n",
      "Total time elapsed: 06:00:03\n"
     ]
    }
   ],
   "source": [
    "import pyprind\n",
    "\n",
    "p = pyprind.ProgBar( len( list( SLT.TreeB.get_internal_nodes() ) ), monitor=True, title='sampling trees...' )\n",
    "\n",
    "big_nodes = []\n",
    "table = {}\n",
    "for n,node in enumerate( SLT.TreeB.get_internal_nodes() ) :\n",
    "    p.update()\n",
    "    SLT.subset( node )\n",
    "    if SLT.subset_n_links > 4000 :\n",
    "        big_nodes.append( node )\n",
    "        result = SLT.sample_linked_distances( sigma=0.05, n=1000, buckets=100)\n",
    "    else :\n",
    "        result = SLT.linked_distances()\n",
    "    table[node] = { 'n_leafs'    : SLT.subset_size, \n",
    "                    'n_links'    : SLT.subset_n_links,\n",
    "                    'n_pairs'    : result['n_pairs'],\n",
    "                    'n_samples'  : result['n_samples'],\n",
    "                    'deviatnon_a': result['deviation_a'],\n",
    "                    'deviation_b': result['deviation_b'],\n",
    "                    'r'          : pearson( result['TreeA'], result['TreeB'] ) }"
   ]
  },
  {
   "cell_type": "markdown",
   "metadata": {
    "slideshow": {
     "slide_type": "subslide"
    }
   },
   "source": [
    "If exhaustively measure correlations for clades with fewer than 4000 links,\n",
    "and used sampled distances for clades with more than 4000 links, it takes\n",
    "about six hours on one core.\n",
    "\n",
    "It can be threaded, but I haven't gotten around to trying that yet."
   ]
  },
  {
   "cell_type": "code",
   "execution_count": 47,
   "metadata": {
    "collapsed": false,
    "slideshow": {
     "slide_type": "subslide"
    }
   },
   "outputs": [
    {
     "data": {
      "text/plain": [
       "<seaborn.axisgrid.JointGrid at 0x7faeabaf4090>"
      ]
     },
     "execution_count": 47,
     "metadata": {},
     "output_type": "execute_result"
    },
    {
     "data": {
      "image/png": "[encoded data removed]",
      "text/plain": [
       "<matplotlib.figure.Figure at 0x7faeabaf4050>"
      ]
     },
     "metadata": {},
     "output_type": "display_data"
    }
   ],
   "source": [
    "C = pd.DataFrame( table ).T\n",
    "seaborn.jointplot( 'n_links', 'r', data=C )"
   ]
  },
  {
   "cell_type": "markdown",
   "metadata": {
    "slideshow": {
     "slide_type": "subslide"
    }
   },
   "source": [
    "Most of this is garbage. Let's focus on the good bits."
   ]
  },
  {
   "cell_type": "code",
   "execution_count": 16,
   "metadata": {
    "collapsed": false,
    "slideshow": {
     "slide_type": "subslide"
    }
   },
   "outputs": [
    {
     "data": {
      "text/plain": [
       "<seaborn.axisgrid.JointGrid at 0x7f1ccbe5ce10>"
      ]
     },
     "execution_count": 16,
     "metadata": {},
     "output_type": "execute_result"
    },
    {
     "data": {
      "image/png": "[encoded data removed]",
      "text/plain": [
       "<matplotlib.figure.Figure at 0x7f1ccbe5cc50>"
      ]
     },
     "metadata": {},
     "output_type": "display_data"
    }
   ],
   "source": [
    "seaborn.jointplot( 'n_links', 'r', data=C.query('n_leafs > 5 and r > 0.05')  )"
   ]
  },
  {
   "cell_type": "code",
   "execution_count": 20,
   "metadata": {
    "collapsed": false,
    "slideshow": {
     "slide_type": "subslide"
    }
   },
   "outputs": [
    {
     "name": "stdout",
     "output_type": "stream",
     "text": [
      "(398, 7)\n"
     ]
    },
    {
     "data": {
      "text/html": [
       "<div>\n",
       "<table border=\"1\" class=\"dataframe\">\n",
       "  <thead>\n",
       "    <tr style=\"text-align: right;\">\n",
       "      <th></th>\n",
       "      <th>deviation_b</th>\n",
       "      <th>deviatnon_a</th>\n",
       "      <th>n_leafs</th>\n",
       "      <th>n_links</th>\n",
       "      <th>n_pairs</th>\n",
       "      <th>n_samples</th>\n",
       "      <th>r</th>\n",
       "    </tr>\n",
       "  </thead>\n",
       "  <tbody>\n",
       "    <tr>\n",
       "      <th>98839</th>\n",
       "      <td>NaN</td>\n",
       "      <td>NaN</td>\n",
       "      <td>6.0</td>\n",
       "      <td>6.0</td>\n",
       "      <td>15.0</td>\n",
       "      <td>15.0</td>\n",
       "      <td>0.426846</td>\n",
       "    </tr>\n",
       "    <tr>\n",
       "      <th>88617</th>\n",
       "      <td>NaN</td>\n",
       "      <td>NaN</td>\n",
       "      <td>7.0</td>\n",
       "      <td>11.0</td>\n",
       "      <td>55.0</td>\n",
       "      <td>55.0</td>\n",
       "      <td>0.330649</td>\n",
       "    </tr>\n",
       "    <tr>\n",
       "      <th>79047</th>\n",
       "      <td>NaN</td>\n",
       "      <td>NaN</td>\n",
       "      <td>6.0</td>\n",
       "      <td>10.0</td>\n",
       "      <td>45.0</td>\n",
       "      <td>45.0</td>\n",
       "      <td>0.310790</td>\n",
       "    </tr>\n",
       "    <tr>\n",
       "      <th>47385</th>\n",
       "      <td>NaN</td>\n",
       "      <td>NaN</td>\n",
       "      <td>6.0</td>\n",
       "      <td>7.0</td>\n",
       "      <td>21.0</td>\n",
       "      <td>21.0</td>\n",
       "      <td>0.286141</td>\n",
       "    </tr>\n",
       "    <tr>\n",
       "      <th>10121</th>\n",
       "      <td>NaN</td>\n",
       "      <td>NaN</td>\n",
       "      <td>8.0</td>\n",
       "      <td>14.0</td>\n",
       "      <td>91.0</td>\n",
       "      <td>91.0</td>\n",
       "      <td>0.267268</td>\n",
       "    </tr>\n",
       "  </tbody>\n",
       "</table>\n",
       "</div>"
      ],
      "text/plain": [
       "       deviation_b  deviatnon_a  n_leafs  n_links  n_pairs  n_samples  \\\n",
       "98839          NaN          NaN      6.0      6.0     15.0       15.0   \n",
       "88617          NaN          NaN      7.0     11.0     55.0       55.0   \n",
       "79047          NaN          NaN      6.0     10.0     45.0       45.0   \n",
       "47385          NaN          NaN      6.0      7.0     21.0       21.0   \n",
       "10121          NaN          NaN      8.0     14.0     91.0       91.0   \n",
       "\n",
       "              r  \n",
       "98839  0.426846  \n",
       "88617  0.330649  \n",
       "79047  0.310790  \n",
       "47385  0.286141  \n",
       "10121  0.267268  "
      ]
     },
     "execution_count": 20,
     "metadata": {},
     "output_type": "execute_result"
    }
   ],
   "source": [
    "CC = C.query('n_leafs > 5 and r > 0.05').sort_values('r', ascending=False)\n",
    "print CC.shape\n",
    "CC.head()"
   ]
  },
  {
   "cell_type": "markdown",
   "metadata": {
    "slideshow": {
     "slide_type": "slide"
    }
   },
   "source": [
    "## Correlation smorrilation\n",
    "\n",
    "Well, the only reason I'm using Pearson's $r$ is because it happens to be an \n",
    "$\\mathcal{O}(n)$ algorithm. It also assumes that the distributions of the \n",
    "things you are testing are normal.\n",
    "\n",
    "We already saw that they are *not* normal.\n",
    "\n",
    "We really should use a rank-order correlation test like Kendall's $\\tau$ \n",
    "because they don't make any assumptions about the distributions, but\n",
    "these are all $\\mathcal{O}(n^2)$ algorithms.\n",
    "\n",
    "Once again, the massive diversity of microbes forces us to really sweat the\n",
    "details."
   ]
  },
  {
   "cell_type": "markdown",
   "metadata": {
    "slideshow": {
     "slide_type": "slide"
    }
   },
   "source": [
    "So, let's just use Pearson's $r$ to out what the correlations *probably* \n",
    "are, and then find Kendall's $\\tau$ for the ones that look interesting."
   ]
  },
  {
   "cell_type": "code",
   "execution_count": 35,
   "metadata": {
    "collapsed": false,
    "slideshow": {
     "slide_type": "subslide"
    }
   },
   "outputs": [
    {
     "data": {
      "text/html": [
       "<div>\n",
       "<table border=\"1\" class=\"dataframe\">\n",
       "  <thead>\n",
       "    <tr style=\"text-align: right;\">\n",
       "      <th></th>\n",
       "      <th>deviation_b</th>\n",
       "      <th>deviatnon_a</th>\n",
       "      <th>n_leafs</th>\n",
       "      <th>n_links</th>\n",
       "      <th>n_pairs</th>\n",
       "      <th>n_samples</th>\n",
       "      <th>r</th>\n",
       "      <th>pearson_p</th>\n",
       "      <th>kendall_tau</th>\n",
       "      <th>kendall_p</th>\n",
       "    </tr>\n",
       "  </thead>\n",
       "  <tbody>\n",
       "    <tr>\n",
       "      <th>98839</th>\n",
       "      <td>NaN</td>\n",
       "      <td>NaN</td>\n",
       "      <td>6.0</td>\n",
       "      <td>6.0</td>\n",
       "      <td>15.0</td>\n",
       "      <td>15.0</td>\n",
       "      <td>0.426846</td>\n",
       "      <td>0.112563</td>\n",
       "      <td>0.394082</td>\n",
       "      <td>0.040588</td>\n",
       "    </tr>\n",
       "    <tr>\n",
       "      <th>88617</th>\n",
       "      <td>NaN</td>\n",
       "      <td>NaN</td>\n",
       "      <td>7.0</td>\n",
       "      <td>11.0</td>\n",
       "      <td>55.0</td>\n",
       "      <td>55.0</td>\n",
       "      <td>0.330649</td>\n",
       "      <td>0.013678</td>\n",
       "      <td>0.365082</td>\n",
       "      <td>0.000083</td>\n",
       "    </tr>\n",
       "    <tr>\n",
       "      <th>79047</th>\n",
       "      <td>NaN</td>\n",
       "      <td>NaN</td>\n",
       "      <td>6.0</td>\n",
       "      <td>10.0</td>\n",
       "      <td>45.0</td>\n",
       "      <td>45.0</td>\n",
       "      <td>0.310790</td>\n",
       "      <td>0.037714</td>\n",
       "      <td>0.211630</td>\n",
       "      <td>0.040410</td>\n",
       "    </tr>\n",
       "    <tr>\n",
       "      <th>47385</th>\n",
       "      <td>NaN</td>\n",
       "      <td>NaN</td>\n",
       "      <td>6.0</td>\n",
       "      <td>7.0</td>\n",
       "      <td>21.0</td>\n",
       "      <td>21.0</td>\n",
       "      <td>0.286141</td>\n",
       "      <td>0.208586</td>\n",
       "      <td>0.174698</td>\n",
       "      <td>0.267937</td>\n",
       "    </tr>\n",
       "    <tr>\n",
       "      <th>10121</th>\n",
       "      <td>NaN</td>\n",
       "      <td>NaN</td>\n",
       "      <td>8.0</td>\n",
       "      <td>14.0</td>\n",
       "      <td>91.0</td>\n",
       "      <td>91.0</td>\n",
       "      <td>0.267268</td>\n",
       "      <td>0.010434</td>\n",
       "      <td>0.076982</td>\n",
       "      <td>0.279817</td>\n",
       "    </tr>\n",
       "  </tbody>\n",
       "</table>\n",
       "</div>"
      ],
      "text/plain": [
       "       deviation_b  deviatnon_a  n_leafs  n_links  n_pairs  n_samples  \\\n",
       "98839          NaN          NaN      6.0      6.0     15.0       15.0   \n",
       "88617          NaN          NaN      7.0     11.0     55.0       55.0   \n",
       "79047          NaN          NaN      6.0     10.0     45.0       45.0   \n",
       "47385          NaN          NaN      6.0      7.0     21.0       21.0   \n",
       "10121          NaN          NaN      8.0     14.0     91.0       91.0   \n",
       "\n",
       "              r  pearson_p  kendall_tau  kendall_p  \n",
       "98839  0.426846   0.112563     0.394082   0.040588  \n",
       "88617  0.330649   0.013678     0.365082   0.000083  \n",
       "79047  0.310790   0.037714     0.211630   0.040410  \n",
       "47385  0.286141   0.208586     0.174698   0.267937  \n",
       "10121  0.267268   0.010434     0.076982   0.279817  "
      ]
     },
     "execution_count": 35,
     "metadata": {},
     "output_type": "execute_result"
    }
   ],
   "source": [
    "from scipy.stats import kendalltau, pearsonr\n",
    "\n",
    "pearson_p   = {}\n",
    "kendall_tau = {}\n",
    "kendall_p   = {}\n",
    "\n",
    "for n,node in enumerate( CC.index ) :\n",
    "    SLT.subset(node)\n",
    "    result = SLT.linked_distances()\n",
    "    p_r,p_p = pearsonr(   result['TreeA'], result['TreeB'] )\n",
    "    k_t,k_p = kendalltau( result['TreeA'], result['TreeB'] )\n",
    "    pearson_p[node]  = p_p\n",
    "    kendall_tau[node] = k_t\n",
    "    kendall_p[node]   = k_p\n",
    "\n",
    "CC['pearson_p'] = pd.Series(pearson_p)\n",
    "CC['kendall_tau'] = pd.Series(kendall_tau)\n",
    "CC['kendall_p'] = pd.Series(kendall_p)\n",
    "CC.head()"
   ]
  },
  {
   "cell_type": "code",
   "execution_count": 36,
   "metadata": {
    "collapsed": false,
    "slideshow": {
     "slide_type": "subslide"
    }
   },
   "outputs": [
    {
     "data": {
      "text/plain": [
       "<seaborn.axisgrid.JointGrid at 0x7f1cc49627d0>"
      ]
     },
     "execution_count": 36,
     "metadata": {},
     "output_type": "execute_result"
    },
    {
     "data": {
      "image/png": "[encoded data removed]",
      "text/plain": [
       "<matplotlib.figure.Figure at 0x7f1cc4994250>"
      ]
     },
     "metadata": {},
     "output_type": "display_data"
    }
   ],
   "source": [
    "seaborn.jointplot( 'n_links', 'kendall_tau', data=CC )"
   ]
  },
  {
   "cell_type": "markdown",
   "metadata": {
    "slideshow": {
     "slide_type": "slide"
    }
   },
   "source": [
    "## The Moment of Truth\n",
    "\n",
    "Well, there's one clade up there that has a $\\tau$ of 0.394 with a $p$ of 0.040588.\n",
    "\n",
    "Could this be... it?"
   ]
  },
  {
   "cell_type": "code",
   "execution_count": 40,
   "metadata": {
    "collapsed": false,
    "slideshow": {
     "slide_type": "subslide"
    }
   },
   "outputs": [
    {
     "data": {
      "text/plain": [
       "<seaborn.axisgrid.JointGrid at 0x7f1cbfff9fd0>"
      ]
     },
     "execution_count": 40,
     "metadata": {},
     "output_type": "execute_result"
    },
    {
     "data": {
      "image/png": "[encoded data removed]",
      "text/plain": [
       "<matplotlib.figure.Figure at 0x7f1cbffad890>"
      ]
     },
     "metadata": {},
     "output_type": "display_data"
    }
   ],
   "source": [
    "SLT.subset( 79047 )\n",
    "result = SLT.linked_distances()\n",
    "seaborn.jointplot( result['TreeA'], result['TreeB'] )"
   ]
  },
  {
   "cell_type": "markdown",
   "metadata": {
    "collapsed": true,
    "slideshow": {
     "slide_type": "slide"
    }
   },
   "source": [
    "## Verdict : Meh.\n",
    "\n",
    "Does't look very convincing to me."
   ]
  },
  {
   "cell_type": "code",
   "execution_count": null,
   "metadata": {
    "collapsed": true
   },
   "outputs": [],
   "source": []
  }
 ],
 "metadata": {
  "celltoolbar": "Slideshow",
  "kernelspec": {
   "display_name": "Python 2",
   "language": "python",
   "name": "python2"
  },
  "language_info": {
   "codemirror_mode": {
    "name": "ipython",
    "version": 2
   },
   "file_extension": ".py",
   "mimetype": "text/x-python",
   "name": "python",
   "nbconvert_exporter": "python",
   "pygments_lexer": "ipython2",
   "version": "2.7.10"
  }
 },
 "nbformat": 4,
 "nbformat_minor": 0
}
